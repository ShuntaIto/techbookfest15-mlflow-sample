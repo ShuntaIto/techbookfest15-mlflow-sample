{
 "cells": [
  {
   "cell_type": "code",
   "execution_count": null,
   "id": "a561e989-df05-44ce-857d-20d9a17ce8f2",
   "metadata": {},
   "outputs": [],
   "source": [
    "# import\n",
    "import mlflow\n",
    "from azure.ai.ml import MLClient\n",
    "from azure.identity import DefaultAzureCredential\n",
    "import pandas as pd\n",
    "import lightgbm as lgb\n",
    "from sklearn.metrics import classification_report\n",
    "from sklearn.model_selection import train_test_split"
   ]
  },
  {
   "cell_type": "code",
   "execution_count": null,
   "id": "72d75179-1c48-44e4-82cc-6fa2b0e97d88",
   "metadata": {},
   "outputs": [],
   "source": [
    "# Azure Machine Learning接続\n",
    "## MLFLOW_TRACKING_URI環境変数にURIがセットされている場合はURIセット部分のみ省略可\n",
    "subscription_id = \"<subscription_id>\"\n",
    "resource_group = \"<resource_group_name>\"\n",
    "workspace = \"<workspace_name>\"\n",
    "\n",
    "ml_client = MLClient(\n",
    "    DefaultAzureCredential(), subscription_id, resource_group, workspace\n",
    ")\n",
    "\n",
    "azureml_mlflow_uri = ml_client.workspaces.get(\n",
    "    ml_client.workspace_name\n",
    ").mlflow_tracking_uri\n",
    "\n",
    "mlflow.set_tracking_uri(azureml_mlflow_uri)"
   ]
  },
  {
   "cell_type": "code",
   "execution_count": null,
   "id": "b7af6d89-d98a-474b-a785-902fda9672df",
   "metadata": {},
   "outputs": [],
   "source": [
    "# データをpandas データフレームとして読み込み\n",
    "credit_df = pd.read_excel(\n",
    "    \"https://archive.ics.uci.edu/ml/machine-learning-databases/00350/default%20of%20credit%20card%20clients.xls\",\n",
    "    header=1,\n",
    "    index_col=0\n",
    ")\n",
    "\n",
    "# 分割\n",
    "_df, test_df = train_test_split(\n",
    "    credit_df,\n",
    "    test_size=0.2,\n",
    ")\n",
    "\n",
    "train_df, valid_df = train_test_split(\n",
    "    _df,\n",
    "    test_size=0.2,\n",
    ")\n",
    "\n",
    "# 加工\n",
    "y_train = train_df.pop(\"default payment next month\")\n",
    "X_train = train_df.values\n",
    "train_dataset = lgb.Dataset(X_train, label=y_train)\n",
    "\n",
    "y_valid = valid_df.pop(\"default payment next month\")\n",
    "X_valid = valid_df.values\n",
    "valid_dataset = lgb.Dataset(X_valid, label=y_valid)\n",
    "\n",
    "y_test = test_df.pop(\"default payment next month\")\n",
    "X_test = test_df.values"
   ]
  },
  {
   "cell_type": "code",
   "execution_count": null,
   "id": "c8025078-2300-47ac-969d-e796463431fb",
   "metadata": {},
   "outputs": [],
   "source": [
    "# LightGBMパラメーター設定\n",
    "params = {\n",
    "    \"objective\": \"binary\",\n",
    "    \"boosting_type\": \"gbdt\",\n",
    "    \"num_leaves\": 20,\n",
    "    \"max_depth\": 10,\n",
    "    \"learning_rate\": 0.1,\n",
    "    \"device_type\": \"cpu\",\n",
    "    \"seed\": 42,\n",
    "    \"deterministic\": True,\n",
    "}"
   ]
  },
  {
   "cell_type": "code",
   "execution_count": null,
   "id": "904a6f64-3c43-4d6b-a512-3a06a665fd7e",
   "metadata": {},
   "outputs": [],
   "source": [
    "# 学習と実験管理\n",
    "with mlflow.start_run() as run:  \n",
    "    mlflow.log_params(params)\n",
    "    \n",
    "    # LightGBM学習\n",
    "    clf = lgb.train(\n",
    "        params,\n",
    "        train_set=train_dataset,\n",
    "        valid_sets=[valid_dataset],\n",
    "        valid_names=['valid'],\n",
    "        callbacks=[lgb.early_stopping(stopping_rounds=10, verbose=True)]\n",
    "    )\n",
    "    artifact_path=\"DefaultPredictModel\"\n",
    "    model = mlflow.lightgbm.log_model(lgb_model=clf, artifact_path=artifact_path)"
   ]
  },
  {
   "cell_type": "code",
   "execution_count": null,
   "id": "8b1be795-469c-4d69-9811-be6c17ec6dbd",
   "metadata": {},
   "outputs": [],
   "source": [
    "# モデル登録\n",
    "mlflow.register_model(model.model_uri, \"DefaultPredictModel\")"
   ]
  },
  {
   "cell_type": "code",
   "execution_count": null,
   "id": "6c9d140b-6ba1-4299-9a09-85554ba1eddc",
   "metadata": {},
   "outputs": [],
   "source": [
    "# モデルを特定するURI\n",
    "print(f\"runs:/{run.info.run_id}/{artifact_path}\")\n",
    "print(model.model_uri)"
   ]
  },
  {
   "cell_type": "code",
   "execution_count": null,
   "id": "b77c6e8e-59a3-4557-b9d8-8a371f9e1a1b",
   "metadata": {},
   "outputs": [],
   "source": [
    "# モデル読み込み\n",
    "loaded_model = mlflow.pyfunc.load_model(model_uri=model.model_uri)\n",
    "loaded_model = mlflow.pyfunc.load_model(model_uri=f\"runs:/{run.info.run_id}/{artifact_path}\")\n",
    "loaded_model = mlflow.pyfunc.load_model(model_uri=\"models:/DefaultPredictModel/latest\")"
   ]
  },
  {
   "cell_type": "code",
   "execution_count": null,
   "id": "7d1d764f-8679-430d-a1ac-e3b44d124584",
   "metadata": {},
   "outputs": [],
   "source": [
    "# 推論\n",
    "loaded_model.predict(X_test)"
   ]
  },
  {
   "cell_type": "code",
   "execution_count": null,
   "id": "d60db470-47c3-47f9-9466-36de66458ad2",
   "metadata": {},
   "outputs": [],
   "source": [
    "# 学習と実験管理 (自動ロギング)\n",
    "with mlflow.start_run() as run:\n",
    "    # 自動ロギング\n",
    "    mlflow.lightgbm.autolog()\n",
    "\n",
    "    clf = lgb.train(\n",
    "        params,\n",
    "        train_set=train_dataset,\n",
    "        valid_sets=[valid_dataset],\n",
    "        valid_names=['valid'],\n",
    "        callbacks=[lgb.early_stopping(stopping_rounds=10, verbose=True)]\n",
    "    )"
   ]
  },
  {
   "cell_type": "code",
   "execution_count": null,
   "id": "85c244f6-cc58-4ad0-b7b1-b0a5e3602289",
   "metadata": {},
   "outputs": [],
   "source": []
  }
 ],
 "metadata": {
  "kernelspec": {
   "display_name": "azureml-mlflow-env",
   "language": "python",
   "name": "azureml-mlflow-env"
  },
  "language_info": {
   "codemirror_mode": {
    "name": "ipython",
    "version": 3
   },
   "file_extension": ".py",
   "mimetype": "text/x-python",
   "name": "python",
   "nbconvert_exporter": "python",
   "pygments_lexer": "ipython3",
   "version": "3.11.6"
  }
 },
 "nbformat": 4,
 "nbformat_minor": 5
}
